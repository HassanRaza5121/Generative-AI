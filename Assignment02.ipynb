{
 "cells": [
  {
   "cell_type": "code",
   "execution_count": 45,
   "metadata": {},
   "outputs": [],
   "source": [
    "import numpy as np\n",
    "import pandas as pd\n",
    "import torch\n",
    "import torch.nn as nn\n",
    "import matplotlib.pyplot as plt\n",
    "from torchvision import transforms,datasets\n",
    "from torch.utils.data import DataLoader\n"
   ]
  },
  {
   "cell_type": "code",
   "execution_count": 46,
   "metadata": {},
   "outputs": [],
   "source": [
    "device = torch.device(\"cuda\" if torch.cuda.is_available() else \"cpu\")\n"
   ]
  },
  {
   "cell_type": "code",
   "execution_count": 47,
   "metadata": {},
   "outputs": [
    {
     "name": "stdout",
     "output_type": "stream",
     "text": [
      "torch.Size([100, 1, 28, 28])\n"
     ]
    }
   ],
   "source": [
    "\n",
    "transform = transforms.Compose([\n",
    "    transforms.ToTensor(),  # Converts PIL Image to Tensor and scales [0, 255] to [0.0, 1.0]\n",
    "    # No need to add channel dimension as ToTensor() handles it for standard datasets\n",
    "])\n",
    "\n",
    "# Load your dataset (e.g., MNIST)\n",
    "train_dataset = datasets.MNIST(root='data', train=True, download=True, transform=transform)\n",
    "\n",
    "# Create a DataLoader\n",
    "batch_size = 100  # Adjust as needed\n",
    "train_loader = DataLoader(train_dataset, batch_size=batch_size, shuffle=False)\n",
    "\n",
    "# Fetch the first batch\n",
    "all_images, all_labels = next(iter(train_loader))  # all_images shape: [100, 1, 28, 28]\n",
    "print(all_images.shape)"
   ]
  },
  {
   "cell_type": "code",
   "execution_count": 52,
   "metadata": {},
   "outputs": [
    {
     "name": "stdout",
     "output_type": "stream",
     "text": [
      "torch.Size([100, 100])\n"
     ]
    }
   ],
   "source": [
    "class VAEEncoder(nn.Module):\n",
    "    def __init__(self,latent_dimension):\n",
    "        super(VAEEncoder,self).__init__()\n",
    "        self.conv1 = nn.Conv2d(1,32,kernel_size=3,stride=1,padding=2) \n",
    "        self.conv2 = nn.Conv2d(32,64,kernel_size=3,stride=1,padding=2)\n",
    "        self.pool = nn.MaxPool2d(kernel_size=2) \n",
    "\n",
    "        self.fc1 = nn.Linear(64*8*8,120)\n",
    "        self.fc2 = nn.Linear(120,100)\n",
    "        self.fc_mean = nn.Linear(100,latent_dimension)\n",
    "        self.fc_logvar = nn.Linear(100,latent_dimension)\n",
    "        self.relu = nn.ReLU()\n",
    "        self.softmax = nn.Softmax(dim=1)\n",
    "    def forward(self,x):\n",
    "        x = self.pool(self.conv1(x))\n",
    "        x = self.pool(self.conv2(x))\n",
    "        x  = x.view(x.size(0),-1) # flatten my image\n",
    "        x = self.relu(self.fc1(x))\n",
    "        x = self.relu(self.fc2(x))\n",
    "\n",
    "        mean = self.fc_mean(x)\n",
    "        log_var = self.fc_logvar(x)\n",
    "        x = x.view(-1,1)\n",
    "        return mean,log_var,x\n",
    "    def reparamtize_trick(self,mean,log_var):\n",
    "        std = torch.exp(0.5*log_var)\n",
    "        eps = torch.randn_like(std)\n",
    "        z = mean+eps*std\n",
    "        return z   \n",
    "device = torch.device(\"cuda\" if torch.cuda.is_available() else \"cpu\")\n",
    "# Instantiate the encoder with correct input channels (1 for MNIST)\n",
    "encoder = VAEEncoder(100).to(device)\n",
    "\n",
    "# Move data to device\n",
    "all_images = all_images.to(device)  # all_images shape: [100, 1, 28, 28]\n",
    "\n",
    "# Forward pass through the encoder\n",
    "mu, logvar,x = encoder.forward(all_images)\n",
    "z = encoder.reparamtize_trick(mu,logvar)\n",
    "print(z.shape)"
   ]
  },
  {
   "cell_type": "code",
   "execution_count": 53,
   "metadata": {},
   "outputs": [
    {
     "name": "stdout",
     "output_type": "stream",
     "text": [
      "We are finding the approximated probability\n",
      "torch.Size([100, 100, 100])\n"
     ]
    }
   ],
   "source": [
    "class approximated_probability(VAEEncoder):\n",
    "    def __init__(self):\n",
    "        print('We are finding the approximated probability')\n",
    "    def probability_desity(self,mean,log_var):\n",
    "        z = super().reparamtize_trick(mean,log_var)\n",
    "        \n",
    "        var = torch.exp(log_var)\n",
    "        cov = torch.diag_embed(var)\n",
    "        cov_det = torch.linalg.det(cov)\n",
    "        cov_inv = torch.linalg.inv(cov)\n",
    "        norm = 1/torch.sqrt(torch.tensor(2*torch.pi))*cov_det\n",
    "        diff = z-mean\n",
    "        exponent = torch.exp(-0.5*diff@cov_inv*diff)\n",
    "        return norm*exponent\n",
    "obj = approximated_probability()\n",
    "aprox_prob = obj.probability_desity(mu,logvar)"
   ]
  },
  {
   "cell_type": "code",
   "execution_count": null,
   "metadata": {},
   "outputs": [],
   "source": []
  },
  {
   "cell_type": "code",
   "execution_count": null,
   "metadata": {},
   "outputs": [],
   "source": []
  }
 ],
 "metadata": {
  "kernelspec": {
   "display_name": "Python 3",
   "language": "python",
   "name": "python3"
  },
  "language_info": {
   "codemirror_mode": {
    "name": "ipython",
    "version": 3
   },
   "file_extension": ".py",
   "mimetype": "text/x-python",
   "name": "python",
   "nbconvert_exporter": "python",
   "pygments_lexer": "ipython3",
   "version": "3.11.3"
  }
 },
 "nbformat": 4,
 "nbformat_minor": 2
}
